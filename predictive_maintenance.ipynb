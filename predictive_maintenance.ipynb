{
 "cells": [
  {
   "cell_type": "markdown",
   "id": "68b0e5ea",
   "metadata": {},
   "source": [
    "#### 📂 Practical Lab 1\n",
    "\n",
    "#### Streaming Data for Predictive Maintenance with Linear Regression-Based Alerts\n",
    "\n",
    "In the data_stream_visualization workshop, the robot current data were ingested from the given CSV file and 150 rows were inserted into the database. \n",
    "\n",
    "In this workshop, all those rows will be retreived from the database and be used for Predictive Maintenance with Linear Regression-Based Alerts"
   ]
  },
  {
   "cell_type": "code",
   "execution_count": 17,
   "id": "fa3a5da4",
   "metadata": {},
   "outputs": [
    {
     "data": {
      "text/plain": [
       "<module 'modules.DBManager' from 'c:\\\\Users\\\\MOSTAFA\\\\Desktop\\\\Foundations of ML Frameworks\\\\Practical Lab 1\\\\Predictive-Maintenance-with-Linear-Regression\\\\modules\\\\DBManager.py'>"
      ]
     },
     "execution_count": 17,
     "metadata": {},
     "output_type": "execute_result"
    }
   ],
   "source": [
    "import pandas as pd\n",
    "import matplotlib.pyplot as plt\n",
    "import seaborn as sns\n",
    "\n",
    "import matplotlib.pyplot as plt\n",
    "from IPython.display import clear_output, display\n",
    "\n",
    "from sqlalchemy import create_engine\n",
    "from urllib.parse import quote_plus\n",
    "\n",
    "import importlib\n",
    "\n",
    "import modules.DBManager\n",
    "importlib.reload(modules.DBManager)\n",
    "\n",
    "\n",
    "# from sklearn import linear_model\n",
    "# from sklearn.metrics import mean_squared_error, mean_absolute_error"
   ]
  },
  {
   "cell_type": "code",
   "execution_count": null,
   "id": "f3eb4b25",
   "metadata": {},
   "outputs": [
    {
     "name": "stdout",
     "output_type": "stream",
     "text": [
      "🔍 Fetching all records from the database...\n",
      "Total records in the database: 150\n"
     ]
    }
   ],
   "source": [
    "# 🔐 Neon DB Config - Mostafa's db\n",
    "DB_CONFIG = {\n",
    "    \"host\": \"ep-spring-surf-adwzqkg9-pooler.c-2.us-east-1.aws.neon.tech\",\n",
    "    \"database\": \"neondb\",\n",
    "    \"user\": \"neondb_owner\",\n",
    "    \"password\": \"npg_2DdhmHi4GxFp\",\n",
    "    \"port\": \"5432\",\n",
    "    \"sslmode\": \"require\",\n",
    "}\n",
    "\n",
    "dbmanager = modules.DBManager.DBManager(DB_CONFIG, columns=[])\n",
    "data = dbmanager.fetch_all()\n",
    "\n",
    "print(f\"Total records in the database: {len(data)}\")\n",
    "\n",
    "\n"
   ]
  }
 ],
 "metadata": {
  "kernelspec": {
   "display_name": ".venv",
   "language": "python",
   "name": "python3"
  },
  "language_info": {
   "codemirror_mode": {
    "name": "ipython",
    "version": 3
   },
   "file_extension": ".py",
   "mimetype": "text/x-python",
   "name": "python",
   "nbconvert_exporter": "python",
   "pygments_lexer": "ipython3",
   "version": "3.13.7"
  }
 },
 "nbformat": 4,
 "nbformat_minor": 5
}
